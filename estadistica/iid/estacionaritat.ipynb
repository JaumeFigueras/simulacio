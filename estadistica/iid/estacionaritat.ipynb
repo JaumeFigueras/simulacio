{
 "cells": [
  {
   "metadata": {},
   "cell_type": "markdown",
   "source": [
    "# Anàlisi d'estacionarietat de dades temporals en models de Simulació d'Esdeveniments Discrets\n",
    "\n",
    "## Exemple: dades de les recollides de clients en el sistema de taxi (Yellow cab) de Nova York\n",
    "\n",
    "En aquest exemple s'analitza el comportament del temps entre el temps entre la recollida de clients\n",
    "en el sistema de taxis de Nova York. Per nosaltres en un model de simulació d'esdeveniments discrets\n",
    "això seria equivalent al temps entre arribades de clients al sistema. Els taxis de Nova York deixen\n",
    "públiques les seves dades i es poden consultar i analitzar. En aquest estudi s'analitza l'estabilitat\n",
    "temporal de les dades i es veu si aquestes estan idènticament distribuïdes per tot el període d'estudi.\n",
    "\n",
    "Per fer aquesta anàlisi es divideix en la següent seqüència d'accions:\n",
    "\n",
    "- Importar les dades amb *pandas*\n",
    "- Filtrar les dades per dos dies (per reduir-ne el volum) i calcular el temps entre arribades.\n",
    "- Càlcul del nombre d'arribades per segon, acumulat i per probabilitat (per poder mostrar la gràfica p-p).\n",
    "- Mostrar la gràfica p-p.\n",
    "- Mostrar un gràfic de barres de les arribades horàries"
   ],
   "id": "9839e2e2d4f9e199"
  },
  {
   "cell_type": "code",
   "metadata": {
    "ExecuteTime": {
     "end_time": "2025-05-23T23:46:41.955059Z",
     "start_time": "2025-05-23T23:46:41.952036Z"
    }
   },
   "source": [
    "# Import the necessary libraries from the beginning\n",
    "import datetime\n",
    "import pandas as pd\n",
    "import seaborn as sns\n",
    "import matplotlib.pyplot as plt\n",
    "from statsmodels.tsa.stattools import adfuller\n",
    "from scipy.stats import f_oneway"
   ],
   "id": "c5945232cbb5709e",
   "outputs": [],
   "execution_count": 6
  },
  {
   "cell_type": "code",
   "metadata": {
    "ExecuteTime": {
     "end_time": "2025-05-23T10:39:44.736502Z",
     "start_time": "2025-05-23T10:39:40.780878Z"
    }
   },
   "source": [
    "# Load the Yellow Cab NYC taxi data\n",
    "df = pd.read_csv(\"yellow-tripdata-2025-01.csv\", usecols=[\"tpep_pickup_datetime\"])\n",
    "df.rename(columns={'tpep_pickup_datetime': 'arrival_time'}, inplace=True)\n",
    "df['arrival_time'] = pd.to_datetime(df['arrival_time'])\n",
    "# Filter for 14th and 15th of January just to reduce the data set length\n",
    "from_ts = datetime.datetime(2025,1,14,0,0,0)\n",
    "to_ts = datetime.datetime(2025,1,16,0,0,0)\n",
    "df = df[(from_ts <= df['arrival_time']) & ( df['arrival_time'] < to_ts)]\n",
    "# Compute interarrival time\n",
    "df.sort_values('arrival_time', inplace=True)\n",
    "df['interarrival'] = df['arrival_time'].diff().dt.total_seconds()\n",
    "df.dropna(inplace=True)\n",
    "df.reset_index(drop=True, inplace=True)\n",
    "df.head()"
   ],
   "id": "813414fbec3f7927",
   "outputs": [
    {
     "data": {
      "text/plain": [
       "         arrival_time  interarrival\n",
       "0 2025-01-14 00:00:02           1.0\n",
       "1 2025-01-14 00:00:02           0.0\n",
       "2 2025-01-14 00:00:04           2.0\n",
       "3 2025-01-14 00:00:19          15.0\n",
       "4 2025-01-14 00:00:26           7.0"
      ],
      "text/html": [
       "<div>\n",
       "<style scoped>\n",
       "    .dataframe tbody tr th:only-of-type {\n",
       "        vertical-align: middle;\n",
       "    }\n",
       "\n",
       "    .dataframe tbody tr th {\n",
       "        vertical-align: top;\n",
       "    }\n",
       "\n",
       "    .dataframe thead th {\n",
       "        text-align: right;\n",
       "    }\n",
       "</style>\n",
       "<table border=\"1\" class=\"dataframe\">\n",
       "  <thead>\n",
       "    <tr style=\"text-align: right;\">\n",
       "      <th></th>\n",
       "      <th>arrival_time</th>\n",
       "      <th>interarrival</th>\n",
       "    </tr>\n",
       "  </thead>\n",
       "  <tbody>\n",
       "    <tr>\n",
       "      <th>0</th>\n",
       "      <td>2025-01-14 00:00:02</td>\n",
       "      <td>1.0</td>\n",
       "    </tr>\n",
       "    <tr>\n",
       "      <th>1</th>\n",
       "      <td>2025-01-14 00:00:02</td>\n",
       "      <td>0.0</td>\n",
       "    </tr>\n",
       "    <tr>\n",
       "      <th>2</th>\n",
       "      <td>2025-01-14 00:00:04</td>\n",
       "      <td>2.0</td>\n",
       "    </tr>\n",
       "    <tr>\n",
       "      <th>3</th>\n",
       "      <td>2025-01-14 00:00:19</td>\n",
       "      <td>15.0</td>\n",
       "    </tr>\n",
       "    <tr>\n",
       "      <th>4</th>\n",
       "      <td>2025-01-14 00:00:26</td>\n",
       "      <td>7.0</td>\n",
       "    </tr>\n",
       "  </tbody>\n",
       "</table>\n",
       "</div>"
      ]
     },
     "execution_count": 2,
     "metadata": {},
     "output_type": "execute_result"
    }
   ],
   "execution_count": 2
  },
  {
   "cell_type": "code",
   "metadata": {
    "ExecuteTime": {
     "end_time": "2025-05-23T10:40:23.452337Z",
     "start_time": "2025-05-23T10:39:54.904605Z"
    }
   },
   "source": [
    "# Create the data needed to show a p-p graph\n",
    "# Count arrivals for each second in both days\n",
    "counts = df['arrival_time'].value_counts().sort_index()\n",
    "counts_df = counts.reset_index()\n",
    "counts_df.columns = ['date', 'count']\n",
    "counts_df['date'] = pd.to_datetime(counts_df['date'])\n",
    "# Create a data frame with each second and the arrival count in that second\n",
    "number_of_seconds = 24 * 60 * 60 * 2\n",
    "pp_df = pd.DataFrame()\n",
    "pp_df['second'] = range(0, number_of_seconds)\n",
    "pp_df['arrivals_count'] = 0\n",
    "for index, row in counts_df.iterrows():\n",
    "    second = row['date'].hour * 3600 + row['date'].minute * 60 + row['date'].second + 86400 * (row['date'].day - 14)\n",
    "    pp_df.loc[second, 'arrivals_count'] = row['count']\n",
    "# Compute cumulative values\n",
    "pp_df['cumulative_arrivals'] = pp_df['arrivals_count'].cumsum()\n",
    "# Compute proportions for the p-p graph\n",
    "pp_df['pp_x'] = pp_df['second'] / pp_df['second'].max()\n",
    "pp_df['pp_y'] = pp_df['cumulative_arrivals'] / pp_df['cumulative_arrivals'].max()\n",
    "print(pp_df)"
   ],
   "id": "59b4ca8f65f9cb26",
   "outputs": [
    {
     "name": "stdout",
     "output_type": "stream",
     "text": [
      "        second  arrivals_count  cumulative_arrivals      pp_x      pp_y\n",
      "0            0               0                    0  0.000000  0.000000\n",
      "1            1               0                    0  0.000006  0.000000\n",
      "2            2               2                    2  0.000012  0.000008\n",
      "3            3               0                    2  0.000017  0.000008\n",
      "4            4               1                    3  0.000023  0.000012\n",
      "...        ...             ...                  ...       ...       ...\n",
      "172795  172795               0               247090  0.999977  0.999988\n",
      "172796  172796               1               247091  0.999983  0.999992\n",
      "172797  172797               1               247092  0.999988  0.999996\n",
      "172798  172798               1               247093  0.999994  1.000000\n",
      "172799  172799               0               247093  1.000000  1.000000\n",
      "\n",
      "[172800 rows x 5 columns]\n"
     ]
    }
   ],
   "execution_count": 3
  },
  {
   "cell_type": "code",
   "metadata": {
    "ExecuteTime": {
     "end_time": "2025-05-23T10:40:26.397722Z",
     "start_time": "2025-05-23T10:40:26.062829Z"
    }
   },
   "source": [
    "# Show the p-p graph\n",
    "plt.plot(pp_df['pp_x'], pp_df['pp_y'], label='Arribades')\n",
    "plt.plot([0, 1], [0, 1], label='Unitari')\n",
    "plt.title(\"P-P\")\n",
    "plt.xlabel('P - Temps')\n",
    "plt.ylabel('P - Arrivades')\n",
    "plt.legend()\n",
    "plt.grid()\n",
    "plt.show()"
   ],
   "id": "f094bfc31dfb5cd1",
   "outputs": [
    {
     "data": {
      "text/plain": [
       "<Figure size 640x480 with 1 Axes>"
      ],
      "image/png": "[encoded data removed]"
     },
     "metadata": {},
     "output_type": "display_data"
    }
   ],
   "execution_count": 4
  },
  {
   "cell_type": "code",
   "metadata": {
    "ExecuteTime": {
     "end_time": "2025-05-23T10:40:29.539979Z",
     "start_time": "2025-05-23T10:40:29.304651Z"
    }
   },
   "source": [
    "# Create an hourly number of arrivals data frame\n",
    "pp_df['hour'] = pp_df['second'] // 3600\n",
    "hour_df = pp_df.groupby('hour').sum()\n",
    "hour_df = hour_df['arrivals_count']\n",
    "plt.bar(hour_df.index, hour_df)\n",
    "plt.title(\"Nombre d'arribades per hora\")\n",
    "plt.xlabel('Hora')\n",
    "plt.ylabel(\"Nombre d'arribades\")\n",
    "plt.grid()"
   ],
   "id": "d0d63376cf08ca01",
   "outputs": [
    {
     "data": {
      "text/plain": [
       "<Figure size 640x480 with 1 Axes>"
      ],
      "image/png": "[encoded data removed]"
     },
     "metadata": {},
     "output_type": "display_data"
    }
   ],
   "execution_count": 5
  },
  {
   "metadata": {},
   "cell_type": "markdown",
   "source": [
    "# Anàlisi dels resultats obtinguts\n",
    "\n",
    "Observant les dades graficades es pot veure clarament que tant les peticions horàries de taxis (diagrama de barres) com amb\n",
    "la gràfica p-p (probabilitats) les peticions de taxi no estan idènticament distribuïdes.\n",
    "\n",
    "En el gràfic p-p s'aprecia que no segueix la proporcionalitat 1:1, durant la nit hi ha poques arribades (pendent < 1)\n",
    "i a mesura que el dia avança les arribades creixen (pendent > 1). Amb la gràfica de barres s'aprecia el mateix comportament.\n",
    "\n",
    "En aquest cas observant les gràfiques ja es pot determinar que serà impossible de trobar patrons comuns. Per tant per modelar amb\n",
    "una distribució de densitat de probabilitat les arribades caldrà utilitzar la mitjana d'arribades per hora (la taxa d'arribades es\n",
    "modela amb una distribució de Poisson) si volem el temps entre arribades que demana Arena, cal fer la inversa i usar una distribució\n",
    "exponencial del temps mitjà entre arribades. No hi ha gaire més a fer, fer d'altres anàlisis seria perdre el temps.\n",
    "\n",
    "També es pot fer un test d'Estacionarietat: Augmented Dickey–Fuller test\n",
    "\n",
    "Podeu aprendre'n més a:\n",
    "\n",
    "- [Augmented Dickey–Fuller test](https://en.wikipedia.org/wiki/Augmented_Dickey%E2%80%93Fuller_test)\n",
    "- [Arrel unitària](https://en.wikipedia.org/wiki/Unit_root)\n",
    "- [Procés estacionari](https://en.wikipedia.org/wiki/Stationary_process)"
   ],
   "id": "62ffc6f15bcc6943"
  },
  {
   "metadata": {
    "ExecuteTime": {
     "end_time": "2025-05-19T18:46:54.260362Z",
     "start_time": "2025-05-19T18:45:20.409993Z"
    }
   },
   "cell_type": "code",
   "source": [
    "# Compute the ADF Test\n",
    "result = adfuller(df['interarrival'])\n",
    "# Show the results\n",
    "print(f\"ADF Statistic: {result[0]}\")\n",
    "print(f\"p-value: {result[1]}\")"
   ],
   "id": "521a4dda1e74808b",
   "outputs": [
    {
     "name": "stdout",
     "output_type": "stream",
     "text": [
      "ADF Statistic: -8.044126375699745\n",
      "p-value: 1.8137137179138182e-12\n"
     ]
    }
   ],
   "execution_count": 13
  },
  {
   "metadata": {},
   "cell_type": "markdown",
   "source": [
    "## Les dades reals no són mai simples d'utilitzar\n",
    "\n",
    "Trobar un conjunt de dades reals amb temps d'arribada estacionaris pot ser complicat perquè la majoria dels sistemes reals\n",
    "(com el trànsit, urgències hospitalàries, transaccions bancàries, etc.) presenten un comportament no estacionari a\n",
    "causa dels efectes del comportament humà."
   ],
   "id": "265d27c707642802"
  },
  {
   "metadata": {},
   "cell_type": "markdown",
   "source": [
    "## I l'estabilitat de la duració del trajecte? El trajecte depèn també de l'hora?\n",
    "\n",
    "Doncs en una primera hipòtesi es podria pensar que la duració del trajecte en el taxi s'hauria de comportar estacionàriament,\n",
    "per tan, independentment de l'hora del dia. Però sense una anàlisi ni estudi de dades, això és simplement una conjectura. Fem un estudi\n",
    "similar a l'anterior:\n",
    "\n",
    "Primer cal triar una divisió temporal d'anàlisi. Com que no sabem si les dades són o no són estacionàries o com segmentar els temps:\n",
    "per dies, per hores, per minuts. Cal fer una primera hipòtesi. Com dividim el temps? Com que l'ésser humà s'organitza principalment en dies\n",
    "i hores sembla lògic dividir les dades amb aquestes unitats, per tant mostrem les dades del trajecte d'un dia amb una base horària. Abans de fer\n",
    "una anàlisi quantitativa observem les dades qualitativament."
   ],
   "id": "8bd16aa481e7944d"
  },
  {
   "metadata": {
    "ExecuteTime": {
     "end_time": "2025-05-23T23:39:13.906734Z",
     "start_time": "2025-05-23T23:39:08.051877Z"
    }
   },
   "cell_type": "code",
   "source": [
    "# Read the data\n",
    "df = pd.read_csv(\"yellow-tripdata-2025-01.csv\", usecols=[\"tpep_pickup_datetime\", \"tpep_dropoff_datetime\"])\n",
    "df.rename(columns={'tpep_pickup_datetime': 'arrival_time'}, inplace=True)\n",
    "df.rename(columns={'tpep_dropoff_datetime': 'finish_time'}, inplace=True)\n",
    "df['arrival_time'] = pd.to_datetime(df['arrival_time'])\n",
    "df['finish_time'] = pd.to_datetime(df['finish_time'])\n",
    "# Filter for 14th of January to test one random day\n",
    "from_ts = datetime.datetime(2025,1,14,0,0,0)\n",
    "to_ts = datetime.datetime(2025,1,15,0,0,0)\n",
    "df = df[(from_ts <= df['arrival_time']) & ( df['arrival_time'] < to_ts)]\n",
    "df['hour'] = df['arrival_time'].dt.hour\n",
    "df['length'] = (df['finish_time'] - df['arrival_time']).dt.total_seconds()\n",
    "df.head()"
   ],
   "id": "340a8c89763da470",
   "outputs": [
    {
     "data": {
      "text/plain": [
       "              arrival_time         finish_time  hour   length\n",
       "109889 2025-01-14 00:01:11 2025-01-14 00:05:19     0    248.0\n",
       "110076 2025-01-14 00:11:26 2025-01-15 00:10:21     0  86335.0\n",
       "110462 2025-01-14 00:12:15 2025-01-14 00:20:10     0    475.0\n",
       "110463 2025-01-14 00:47:18 2025-01-14 00:52:59     0    341.0\n",
       "110464 2025-01-14 00:42:08 2025-01-14 01:02:53     0   1245.0"
      ],
      "text/html": [
       "<div>\n",
       "<style scoped>\n",
       "    .dataframe tbody tr th:only-of-type {\n",
       "        vertical-align: middle;\n",
       "    }\n",
       "\n",
       "    .dataframe tbody tr th {\n",
       "        vertical-align: top;\n",
       "    }\n",
       "\n",
       "    .dataframe thead th {\n",
       "        text-align: right;\n",
       "    }\n",
       "</style>\n",
       "<table border=\"1\" class=\"dataframe\">\n",
       "  <thead>\n",
       "    <tr style=\"text-align: right;\">\n",
       "      <th></th>\n",
       "      <th>arrival_time</th>\n",
       "      <th>finish_time</th>\n",
       "      <th>hour</th>\n",
       "      <th>length</th>\n",
       "    </tr>\n",
       "  </thead>\n",
       "  <tbody>\n",
       "    <tr>\n",
       "      <th>109889</th>\n",
       "      <td>2025-01-14 00:01:11</td>\n",
       "      <td>2025-01-14 00:05:19</td>\n",
       "      <td>0</td>\n",
       "      <td>248.0</td>\n",
       "    </tr>\n",
       "    <tr>\n",
       "      <th>110076</th>\n",
       "      <td>2025-01-14 00:11:26</td>\n",
       "      <td>2025-01-15 00:10:21</td>\n",
       "      <td>0</td>\n",
       "      <td>86335.0</td>\n",
       "    </tr>\n",
       "    <tr>\n",
       "      <th>110462</th>\n",
       "      <td>2025-01-14 00:12:15</td>\n",
       "      <td>2025-01-14 00:20:10</td>\n",
       "      <td>0</td>\n",
       "      <td>475.0</td>\n",
       "    </tr>\n",
       "    <tr>\n",
       "      <th>110463</th>\n",
       "      <td>2025-01-14 00:47:18</td>\n",
       "      <td>2025-01-14 00:52:59</td>\n",
       "      <td>0</td>\n",
       "      <td>341.0</td>\n",
       "    </tr>\n",
       "    <tr>\n",
       "      <th>110464</th>\n",
       "      <td>2025-01-14 00:42:08</td>\n",
       "      <td>2025-01-14 01:02:53</td>\n",
       "      <td>0</td>\n",
       "      <td>1245.0</td>\n",
       "    </tr>\n",
       "  </tbody>\n",
       "</table>\n",
       "</div>"
      ]
     },
     "execution_count": 3,
     "metadata": {},
     "output_type": "execute_result"
    }
   ],
   "execution_count": 3
  },
  {
   "metadata": {
    "ExecuteTime": {
     "end_time": "2025-05-23T10:46:43.234937Z",
     "start_time": "2025-05-23T10:46:43.028196Z"
    }
   },
   "cell_type": "code",
   "source": [
    "hour_df = df.groupby('hour').mean()\n",
    "# Create an hourly number of arrivals data frame\n",
    "plt.bar(hour_df.index, hour_df['length'])\n",
    "plt.title(\"Duració del trajecte per hora\")\n",
    "plt.xlabel('Hora')\n",
    "plt.ylabel(\"Nombre d'arribades\")\n",
    "plt.grid()"
   ],
   "id": "cd75214e35f422ae",
   "outputs": [
    {
     "data": {
      "text/plain": [
       "<Figure size 640x480 with 1 Axes>"
      ],
      "image/png": "[encoded data removed]"
     },
     "metadata": {},
     "output_type": "display_data"
    }
   ],
   "execution_count": 7
  },
  {
   "metadata": {},
   "cell_type": "markdown",
   "source": [
    "A simple vista sembla que sí hi ha un comportment diferent en la duració del trajecte mitjà en funció de l'hora del dia.\n",
    "La duració del trajecte mitjà a les 2 de la matinada és d'aproximadament 650 segons (10 minuts) mentre que a les 8 del matí\n",
    "la duració mitjana s'enfila per sobre els 1000 segons (16 minuts). Factors com el trànsit o desplaçaments a i des dels aeroports\n",
    "de la ciutat afecten la duració del trajecte mitja. També pot ser un comportament molt normal que de nit sí que s'utilitzi el taxi\n",
    "per fer trajectes curts que no es plantejarien de dia.\n",
    "\n",
    "Analitzem doncs un mes. De totes maneres no utilitzem totes les dades ja que els festius en mig de la setmana poden alterar les\n",
    "dades. Així doncs, fem un filtratge de les dades que ens poden causar problemes. Dades que analitzaríem de manera diferent.\n",
    "\n",
    "Busquem el temps mitjà de recorregut per dia i hora i les grafiquem amb un diagrama de barres"
   ],
   "id": "3f738285e6a79d63"
  },
  {
   "metadata": {
    "ExecuteTime": {
     "end_time": "2025-05-23T14:23:28.202223Z",
     "start_time": "2025-05-23T14:23:21.661227Z"
    }
   },
   "cell_type": "code",
   "source": [
    "# Read the data\n",
    "df = pd.read_csv(\"yellow-tripdata-2025-01.csv\", usecols=[\"tpep_pickup_datetime\", \"tpep_dropoff_datetime\"])\n",
    "df.rename(columns={'tpep_pickup_datetime': 'arrival_time'}, inplace=True)\n",
    "df.rename(columns={'tpep_dropoff_datetime': 'finish_time'}, inplace=True)\n",
    "df['arrival_time'] = pd.to_datetime(df['arrival_time'])\n",
    "df['finish_time'] = pd.to_datetime(df['finish_time'])\n",
    "# Remove strange data, probably time zones\n",
    "df = df[~(df['arrival_time'] < datetime.datetime(2025,1,1,0,0,0))]\n",
    "df = df[~(df['finish_time'] < datetime.datetime(2025,1,1,0,0,0))]\n",
    "# Remove holidays\n",
    "df = df[df['arrival_time'] >= datetime.datetime(2025,1,2,0,0,0)]\n",
    "df = df[~((df['arrival_time'] >= datetime.datetime(2025,1,20,0,0,0)) & (df['arrival_time'] < datetime.datetime(2025,1,21,0,0,0)))]\n",
    "df.sort_values('arrival_time', inplace=True)\n",
    "df['day'] = df['arrival_time'].dt.weekday\n",
    "df['hour'] = df['arrival_time'].dt.hour\n",
    "df['length'] = (df['finish_time'] - df['arrival_time']).dt.total_seconds()\n",
    "df.head()"
   ],
   "id": "1b737b4ec48fb05d",
   "outputs": [
    {
     "data": {
      "text/plain": [
       "               arrival_time         finish_time  day  hour  length\n",
       "990744  2025-01-02 00:00:02 2025-01-02 00:14:28    3     0   866.0\n",
       "991000  2025-01-02 00:00:05 2025-01-02 00:08:57    3     0   532.0\n",
       "990540  2025-01-02 00:00:06 2025-01-02 00:05:22    3     0   316.0\n",
       "2950915 2025-01-02 00:00:08 2025-01-02 00:16:15    3     0   967.0\n",
       "990359  2025-01-02 00:00:10 2025-01-02 00:15:40    3     0   930.0"
      ],
      "text/html": [
       "<div>\n",
       "<style scoped>\n",
       "    .dataframe tbody tr th:only-of-type {\n",
       "        vertical-align: middle;\n",
       "    }\n",
       "\n",
       "    .dataframe tbody tr th {\n",
       "        vertical-align: top;\n",
       "    }\n",
       "\n",
       "    .dataframe thead th {\n",
       "        text-align: right;\n",
       "    }\n",
       "</style>\n",
       "<table border=\"1\" class=\"dataframe\">\n",
       "  <thead>\n",
       "    <tr style=\"text-align: right;\">\n",
       "      <th></th>\n",
       "      <th>arrival_time</th>\n",
       "      <th>finish_time</th>\n",
       "      <th>day</th>\n",
       "      <th>hour</th>\n",
       "      <th>length</th>\n",
       "    </tr>\n",
       "  </thead>\n",
       "  <tbody>\n",
       "    <tr>\n",
       "      <th>990744</th>\n",
       "      <td>2025-01-02 00:00:02</td>\n",
       "      <td>2025-01-02 00:14:28</td>\n",
       "      <td>3</td>\n",
       "      <td>0</td>\n",
       "      <td>866.0</td>\n",
       "    </tr>\n",
       "    <tr>\n",
       "      <th>991000</th>\n",
       "      <td>2025-01-02 00:00:05</td>\n",
       "      <td>2025-01-02 00:08:57</td>\n",
       "      <td>3</td>\n",
       "      <td>0</td>\n",
       "      <td>532.0</td>\n",
       "    </tr>\n",
       "    <tr>\n",
       "      <th>990540</th>\n",
       "      <td>2025-01-02 00:00:06</td>\n",
       "      <td>2025-01-02 00:05:22</td>\n",
       "      <td>3</td>\n",
       "      <td>0</td>\n",
       "      <td>316.0</td>\n",
       "    </tr>\n",
       "    <tr>\n",
       "      <th>2950915</th>\n",
       "      <td>2025-01-02 00:00:08</td>\n",
       "      <td>2025-01-02 00:16:15</td>\n",
       "      <td>3</td>\n",
       "      <td>0</td>\n",
       "      <td>967.0</td>\n",
       "    </tr>\n",
       "    <tr>\n",
       "      <th>990359</th>\n",
       "      <td>2025-01-02 00:00:10</td>\n",
       "      <td>2025-01-02 00:15:40</td>\n",
       "      <td>3</td>\n",
       "      <td>0</td>\n",
       "      <td>930.0</td>\n",
       "    </tr>\n",
       "  </tbody>\n",
       "</table>\n",
       "</div>"
      ]
     },
     "execution_count": 97,
     "metadata": {},
     "output_type": "execute_result"
    }
   ],
   "execution_count": 97
  },
  {
   "metadata": {
    "ExecuteTime": {
     "end_time": "2025-05-23T10:49:28.716341Z",
     "start_time": "2025-05-23T10:49:27.741238Z"
    }
   },
   "cell_type": "code",
   "source": [
    "hour_df = df.groupby(['day', 'hour']).agg({\"length\": \"mean\"}).reset_index()\n",
    "# Create an hourly number of arrivals data frame\n",
    "bp = sns.barplot(x=hour_df['hour'], y=hour_df['length'], hue=hour_df['day'], palette=\"hls\", legend=\"brief\")\n",
    "sns.move_legend(bp, \"lower right\")"
   ],
   "id": "626dd1b85392544b",
   "outputs": [
    {
     "data": {
      "text/plain": [
       "<Figure size 640x480 with 1 Axes>"
      ],
      "image/png": "[encoded data removed]"
     },
     "metadata": {},
     "output_type": "display_data"
    }
   ],
   "execution_count": 10
  },
  {
   "metadata": {},
   "cell_type": "markdown",
   "source": [
    "D'aquesta gràfica s'observa clarament dos patrons molt diferenciats entre els laborables (dies número 0 a 4) i els festius (dies número 5 i 6).\n",
    "\n",
    "Hi ha variacions també entre els dies laborables, sobretot a la nit, i també es pot veure que hi ha algunes diferències entre dilluns nit i\n",
    "divendres nit respecte els altres laborables.\n",
    "\n",
    "Fem un estudi primer diari per veure quins dies poden ser considerats iguals i quins poden ser considerats diferents. Com que fins ara solament\n",
    "hem analitzat el mes de gener (per tenir un conjunt de dades reduït, en què els processos de càlcul no triguin molt de temps) usarem ara\n",
    "les dades de tot un any, el 2024. Per limitar el volum les dades ja estan filtrades i contenen solament l'instant d'inici i finalització del\n",
    "trajecte\n",
    "\n",
    "Perquè tingueu un ordre de magnitud les dades de gener són 3.294.922, més de tres milions de desplaçaments. Per l'any 2024 són un total de\n",
    "40.186.838 de desplaçaments."
   ],
   "id": "87224ca2f54affa7"
  },
  {
   "metadata": {},
   "cell_type": "markdown",
   "source": "1. En primer lloc, es cre el conjunt de dades al què s'hi afegeix el dia de la setmana i la setmana de l'any",
   "id": "41cb7506e6254962"
  },
  {
   "metadata": {
    "ExecuteTime": {
     "end_time": "2025-05-23T23:41:56.531186Z",
     "start_time": "2025-05-23T23:40:54.885547Z"
    }
   },
   "cell_type": "code",
   "source": [
    "# Read the data\n",
    "df = pd.read_csv(\"taxi-nyc-2024.csv\")\n",
    "# Convert to datetime\n",
    "df['arrival_time'] = pd.to_datetime(df['arrival_time'])\n",
    "df['finish_time'] = pd.to_datetime(df['finish_time'])\n",
    "# Remove inconsistencies\n",
    "df = df[~(df['arrival_time'] >= datetime.datetime(2025, 1, 1, 0, 0, 0))]\n",
    "# Create Day of the week (0=monday, 6=sunday); Week of the year; Length and the trip duration\n",
    "df['day'] = df['arrival_time'].dt.weekday\n",
    "df['week'] = df['arrival_time'].dt.isocalendar().week\n",
    "df['length'] = (df['finish_time'] - df['arrival_time']).dt.total_seconds()\n",
    "# isocalendar function assigns the first week of 2025 = last week of 2024, so 30 and 31 of december 2024 have to be corrected\n",
    "df.loc[df.index[-2], 'week'] = df.loc[df.index[-3], 'week'] + 1\n",
    "df.loc[df.index[-1], 'week'] = df.loc[df.index[-3], 'week'] + 1\n",
    "df.head()"
   ],
   "id": "8de1a765c3e52a67",
   "outputs": [
    {
     "data": {
      "text/plain": [
       "   Unnamed: 0        arrival_time         finish_time  day  week   length\n",
       "0           0 2024-01-02 00:00:00 2024-01-02 07:22:04    1     1  26524.0\n",
       "1           1 2024-01-02 00:00:01 2024-01-02 00:10:01    1     1    600.0\n",
       "2           2 2024-01-02 00:00:04 2024-01-02 00:07:11    1     1    427.0\n",
       "3           3 2024-01-02 00:00:07 2024-01-02 00:14:34    1     1    867.0\n",
       "4           4 2024-01-02 00:00:08 2024-01-02 00:15:28    1     1    920.0"
      ],
      "text/html": [
       "<div>\n",
       "<style scoped>\n",
       "    .dataframe tbody tr th:only-of-type {\n",
       "        vertical-align: middle;\n",
       "    }\n",
       "\n",
       "    .dataframe tbody tr th {\n",
       "        vertical-align: top;\n",
       "    }\n",
       "\n",
       "    .dataframe thead th {\n",
       "        text-align: right;\n",
       "    }\n",
       "</style>\n",
       "<table border=\"1\" class=\"dataframe\">\n",
       "  <thead>\n",
       "    <tr style=\"text-align: right;\">\n",
       "      <th></th>\n",
       "      <th>Unnamed: 0</th>\n",
       "      <th>arrival_time</th>\n",
       "      <th>finish_time</th>\n",
       "      <th>day</th>\n",
       "      <th>week</th>\n",
       "      <th>length</th>\n",
       "    </tr>\n",
       "  </thead>\n",
       "  <tbody>\n",
       "    <tr>\n",
       "      <th>0</th>\n",
       "      <td>0</td>\n",
       "      <td>2024-01-02 00:00:00</td>\n",
       "      <td>2024-01-02 07:22:04</td>\n",
       "      <td>1</td>\n",
       "      <td>1</td>\n",
       "      <td>26524.0</td>\n",
       "    </tr>\n",
       "    <tr>\n",
       "      <th>1</th>\n",
       "      <td>1</td>\n",
       "      <td>2024-01-02 00:00:01</td>\n",
       "      <td>2024-01-02 00:10:01</td>\n",
       "      <td>1</td>\n",
       "      <td>1</td>\n",
       "      <td>600.0</td>\n",
       "    </tr>\n",
       "    <tr>\n",
       "      <th>2</th>\n",
       "      <td>2</td>\n",
       "      <td>2024-01-02 00:00:04</td>\n",
       "      <td>2024-01-02 00:07:11</td>\n",
       "      <td>1</td>\n",
       "      <td>1</td>\n",
       "      <td>427.0</td>\n",
       "    </tr>\n",
       "    <tr>\n",
       "      <th>3</th>\n",
       "      <td>3</td>\n",
       "      <td>2024-01-02 00:00:07</td>\n",
       "      <td>2024-01-02 00:14:34</td>\n",
       "      <td>1</td>\n",
       "      <td>1</td>\n",
       "      <td>867.0</td>\n",
       "    </tr>\n",
       "    <tr>\n",
       "      <th>4</th>\n",
       "      <td>4</td>\n",
       "      <td>2024-01-02 00:00:08</td>\n",
       "      <td>2024-01-02 00:15:28</td>\n",
       "      <td>1</td>\n",
       "      <td>1</td>\n",
       "      <td>920.0</td>\n",
       "    </tr>\n",
       "  </tbody>\n",
       "</table>\n",
       "</div>"
      ]
     },
     "execution_count": 4,
     "metadata": {},
     "output_type": "execute_result"
    }
   ],
   "execution_count": 4
  },
  {
   "metadata": {},
   "cell_type": "markdown",
   "source": "2. Es mostra en una gràfica la duració mitjana del trajecte en funció del dia de la setmana",
   "id": "133fba07f8aa65a3"
  },
  {
   "metadata": {
    "ExecuteTime": {
     "end_time": "2025-05-23T23:42:45.401877Z",
     "start_time": "2025-05-23T23:42:42.460436Z"
    }
   },
   "cell_type": "code",
   "source": [
    "# Compute the day of the week length average\n",
    "day_df = df.groupby('day').mean()\n",
    "day_df.head()\n",
    "# Graph it\n",
    "plt.bar(day_df.index, day_df['length'])\n",
    "plt.title(\"Duració mitjana del trajecte per dies de la setmana\")\n",
    "plt.xlabel('Dia (0-6; dl-dg)')\n",
    "plt.ylabel(\"Duració mitjana trajecte\")\n",
    "plt.grid()"
   ],
   "id": "860f6959d6b12533",
   "outputs": [
    {
     "data": {
      "text/plain": [
       "<Figure size 640x480 with 1 Axes>"
      ],
      "image/png": "[encoded data removed]"
     },
     "metadata": {},
     "output_type": "display_data"
    }
   ],
   "execution_count": 5
  },
  {
   "metadata": {},
   "cell_type": "markdown",
   "source": [
    "Es pot apreciar a la gràfica que els recorreguts mitjans són força similars però es veu certa diferència en els dissabtes i diumenges i\n",
    "la resta de dies i també sembla diferent el dijous.\n",
    "\n",
    "PEr estar segurs fem un test ANOVA per saber si podem considerara les mitjanes iguals en funció del dia"
   ],
   "id": "c0a83da940ad06fd"
  },
  {
   "metadata": {
    "ExecuteTime": {
     "end_time": "2025-05-23T23:56:58.018583Z",
     "start_time": "2025-05-23T23:56:55.528515Z"
    }
   },
   "cell_type": "code",
   "source": [
    "samples = [df.loc[df['day'] == i]['length'] for i in range(7)]\n",
    "result = f_oneway(*samples)\n",
    "print(result)"
   ],
   "id": "d9ad31f4688ff08d",
   "outputs": [
    {
     "name": "stdout",
     "output_type": "stream",
     "text": [
      "F_onewayResult(statistic=np.float64(2723.669221644114), pvalue=np.float64(0.0))\n"
     ]
    }
   ],
   "execution_count": 11
  },
  {
   "metadata": {},
   "cell_type": "markdown",
   "source": [
    "El p-valor de 0, menor a 0.05 indica que es pot rebutjar H0 i per tant considerar les mitjanes diferents. Però com sabem què és\n",
    "igual i què diferent?\n",
    "\n",
    "Hi ha diferents maneres de comprovar aquesta igualtat o diferència, més o menys complexes, se n'ha triat una de simple, que no és\n",
    "la millor, però és molt entenedora.\n",
    "\n",
    "S'utilitzarà una regressió linial per veure quins dies de la setmana expliquen millor la duració del trajecte. Així els dies\n",
    "que no tenen significància estadística dins la regressió, són dies que són tan similars a d'altres que aquests altres els poden\n",
    "explicar. Quan passa això és que tenen el mateix (o molt similar) comportament.\n",
    "\n",
    "3. Es calcula el valor mitjà de la duració del trajecte segons dia de la setmana i setmana de l'any"
   ],
   "id": "9d15dd1b87013684"
  },
  {
   "metadata": {
    "ExecuteTime": {
     "end_time": "2025-05-24T00:04:20.764412Z",
     "start_time": "2025-05-24T00:04:16.989874Z"
    }
   },
   "cell_type": "code",
   "source": [
    "week_day_df = df.groupby(['week', 'day']).mean()\n",
    "week_day_df.reset_index(inplace=True)\n",
    "week_day_df = week_day_df[['week', 'day', 'length']]\n",
    "week_day_df.to_csv('week_day_2024.csv')\n",
    "print(week_day_df)"
   ],
   "id": "1f54e91a2d55880a",
   "outputs": [
    {
     "name": "stdout",
     "output_type": "stream",
     "text": [
      "     week  day       length\n",
      "0       1    0  1117.211641\n",
      "1       1    1   956.703314\n",
      "2       1    2   989.766593\n",
      "3       1    3   962.551783\n",
      "4       1    4   920.606205\n",
      "..    ...  ...          ...\n",
      "348    52    1   921.190743\n",
      "349    52    3  1109.813912\n",
      "350    52    4  1127.911158\n",
      "351    52    5  1081.336708\n",
      "352    52    6  1076.780534\n",
      "\n",
      "[353 rows x 3 columns]\n"
     ]
    }
   ],
   "execution_count": 12
  },
  {
   "metadata": {},
   "cell_type": "markdown",
   "source": [
    "4. Per poder fer la regressió linial es creen 6 variables categòriques per representar els 7 dies de la setmana. Sí 6, per què si es fessin 7 variables no hi hauria independència. La 7a variable serà el terme independent de la regressió.\n",
    "\n",
    "Aquestes variables les anomenarem Q2, Q3, ... , Q7. Q1 no existeix per què serà el terme independent\n",
    "\n",
    "Assignem al dia 0 (dilluns) Q2 = 0, Q3 = 0, ... Q7 = 0 fent que el dilluns sigui el terme independent\n",
    "\n",
    "Assignem al dia 1 (dimarts) Q2 = 1, Q3 = 0, ... Q7 = 0 Si el coeficient de la regressió de Q2 fos 0 voldria dir que Q2 no importa i com que la resta de Qa\n",
    "és 0 voldria dir que dimarts és \"igual\" a dilluns. En lloc de fixar-nos en el valor del coeficient, per què no sabrem exactament les magnituds dels valors\n",
    "ens fixarem en el seu p-value, si és < 0.05 serà significatiu a la regressió (dilluns i dimarts són diferents) si p-value > 0.05 és que no és significatiu\n",
    "(dilluns i dimarts són iguals).\n",
    "\n",
    "Assignem al dia 2 (dimecres) Q2 = 1, Q3 = 1, Q4 = 0, ... Q7 = 0 Amb aquests valors s'estudia com és de significatiu Q3 respecte els altres dies.\n",
    "\n",
    "Anem fent el mateix per els altres Qs\n",
    "\n"
   ],
   "id": "1e71abb648afe4e5"
  },
  {
   "metadata": {
    "ExecuteTime": {
     "end_time": "2025-05-23T22:39:16.105060Z",
     "start_time": "2025-05-23T22:39:16.094570Z"
    }
   },
   "cell_type": "code",
   "source": [
    "# Each day of the week has a Categorical combination\n",
    "avg_df = week_day_df.groupby('day').mean()\n",
    "avg_df.reset_index(inplace=True)\n",
    "avg_df = avg_df[['day', 'length']]\n",
    "# These are column vectors!!\n",
    "avg_df['Q2'] = [0, 1, 1, 1, 1, 1, 1]\n",
    "avg_df['Q3'] = [0, 0, 1, 1, 1, 1, 1]\n",
    "avg_df['Q4'] = [0, 0, 0, 1, 1, 1, 1]\n",
    "avg_df['Q5'] = [0, 0, 0, 0, 1, 1, 1]\n",
    "avg_df['Q6'] = [0, 0, 0, 0, 0, 1, 1]\n",
    "avg_df['Q7'] = [0, 0, 0, 0, 0, 0, 1]\n",
    "print(avg_df.head)"
   ],
   "id": "c10ce499f5c86783",
   "outputs": [
    {
     "name": "stdout",
     "output_type": "stream",
     "text": [
      "<bound method NDFrame.head of    day       length  Q2  Q3  Q4  Q5  Q6  Q7\n",
      "0    0  1050.571231   0   0   0   0   0   0\n",
      "1    1  1054.547439   1   0   0   0   0   0\n",
      "2    2  1074.390485   1   1   0   0   0   0\n",
      "3    3  1103.981129   1   1   1   0   0   0\n",
      "4    4  1051.289604   1   1   1   1   0   0\n",
      "5    5   989.056590   1   1   1   1   1   0\n",
      "6    6   984.249175   1   1   1   1   1   1>\n"
     ]
    }
   ],
   "execution_count": 161
  },
  {
   "metadata": {},
   "cell_type": "markdown",
   "source": [
    "5. Una vegada fetes les Q (variables categòriques) reordenem els dies en funció de la duració mitjana del trajecte. Per què? Doncs\n",
    "per què valors similars de la mitjana segurament implicarà dies similars.\n",
    "\n",
    "Aquesta reordenació s'haurà de tenir present quan s'analitzin els resultats"
   ],
   "id": "e72c76201615ee91"
  },
  {
   "metadata": {
    "ExecuteTime": {
     "end_time": "2025-05-23T22:42:09.286522Z",
     "start_time": "2025-05-23T22:42:09.281130Z"
    }
   },
   "cell_type": "code",
   "source": [
    "avg_df.sort_values('length', inplace=True)\n",
    "print(avg_df)"
   ],
   "id": "8fbaf7d5c9fe07e1",
   "outputs": [
    {
     "name": "stdout",
     "output_type": "stream",
     "text": [
      "   day       length  Q2  Q3  Q4  Q5  Q6  Q7\n",
      "6    6   984.249175   1   1   1   1   1   1\n",
      "5    5   989.056590   1   1   1   1   1   0\n",
      "0    0  1050.571231   0   0   0   0   0   0\n",
      "4    4  1051.289604   1   1   1   1   0   0\n",
      "1    1  1054.547439   1   0   0   0   0   0\n",
      "2    2  1074.390485   1   1   0   0   0   0\n",
      "3    3  1103.981129   1   1   1   0   0   0\n"
     ]
    }
   ],
   "execution_count": 168
  },
  {
   "metadata": {},
   "cell_type": "markdown",
   "source": [
    "6. Es repeteix el patró per les 52 setmanes de l'any (2024)\n",
    "\n",
    "S'afegeix un valor t i un t quadrat per si es vol donar valors al model de regressió (valor linial i quadràtic), tot i que per aquest test no es farà servir.\n",
    "\n",
    "Com que del conjunt inicial no hi ha els festius entre setmana, també s'eliminen del patró."
   ],
   "id": "f262e66f1bb49b84"
  },
  {
   "metadata": {
    "ExecuteTime": {
     "end_time": "2025-05-23T22:53:50.170453Z",
     "start_time": "2025-05-23T22:53:50.153432Z"
    }
   },
   "cell_type": "code",
   "source": [
    "all = list()\n",
    "for i in range(52):\n",
    "    all.append(avg_df)\n",
    "avg_df_repeated = pd.concat(all)\n",
    "avg_df_repeated.reset_index(inplace=True)\n",
    "avg_df_repeated['t'] = range(1, len(avg_df_repeated) + 1)\n",
    "avg_df_repeated['t2'] = avg_df_repeated['t'] ** 2\n",
    "week_holidays = [datetime.datetime(2024,1,15,0,0,0).timetuple().tm_yday - 1,\n",
    "    datetime.datetime(2024,2,19,0,0,0).timetuple().tm_yday - 1,\n",
    "    datetime.datetime(2024,5,27,0,0,0).timetuple().tm_yday - 1,\n",
    "    datetime.datetime(2024,6,19,0,0,0).timetuple().tm_yday - 1,\n",
    "    datetime.datetime(2024,7,4,0,0,0).timetuple().tm_yday - 1,\n",
    "    datetime.datetime(2024,9,2,0,0,0).timetuple().tm_yday - 1,\n",
    "    datetime.datetime(2024,10,14,0,0,0).timetuple().tm_yday - 1,\n",
    "    datetime.datetime(2024,11,5,0,0,0).timetuple().tm_yday - 1,\n",
    "    datetime.datetime(2024,11,11,0,0,0).timetuple().tm_yday - 1,\n",
    "    datetime.datetime(2024,11,28,0,0,0).timetuple().tm_yday - 1,\n",
    "    datetime.datetime(2024,12,25,0,0,0).timetuple().tm_yday - 1,\n",
    "]\n",
    "avg_df_repeated = avg_df_repeated[~avg_df_repeated.index.isin(week_holidays)]\n",
    "avg_df_repeated.reset_index(inplace=True)\n",
    "print(avg_df_repeated)"
   ],
   "id": "8f49d94ab6284fc3",
   "outputs": [
    {
     "name": "stdout",
     "output_type": "stream",
     "text": [
      "     level_0  index  day       length  Q2  Q3  Q4  Q5  Q6  Q7    t      t2\n",
      "0          0      6    6   984.249175   1   1   1   1   1   1    1       1\n",
      "1          1      5    5   989.056590   1   1   1   1   1   0    2       4\n",
      "2          2      0    0  1050.571231   0   0   0   0   0   0    3       9\n",
      "3          3      4    4  1051.289604   1   1   1   1   0   0    4      16\n",
      "4          4      1    1  1054.547439   1   0   0   0   0   0    5      25\n",
      "..       ...    ...  ...          ...  ..  ..  ..  ..  ..  ..  ...     ...\n",
      "348      358      5    5   989.056590   1   1   1   1   1   0  359  128881\n",
      "349      360      4    4  1051.289604   1   1   1   1   0   0  361  130321\n",
      "350      361      1    1  1054.547439   1   0   0   0   0   0  362  131044\n",
      "351      362      2    2  1074.390485   1   1   0   0   0   0  363  131769\n",
      "352      363      3    3  1103.981129   1   1   1   0   0   0  364  132496\n",
      "\n",
      "[353 rows x 12 columns]\n"
     ]
    }
   ],
   "execution_count": 179
  },
  {
   "metadata": {},
   "cell_type": "markdown",
   "source": "7. Es fa la regressió entre els valors de la duració del trajecte mitjà per setmana de l'any i dia de la setmana. Així Y és la duració i X són les variables categòriques a la que s'hi afegeix un terme independent.",
   "id": "c182ddd8c0d00202"
  },
  {
   "metadata": {
    "ExecuteTime": {
     "end_time": "2025-05-23T23:24:41.836418Z",
     "start_time": "2025-05-23T23:24:41.815505Z"
    }
   },
   "cell_type": "code",
   "source": [
    "from sklearn.linear_model import LinearRegression\n",
    "import statsmodels.api as sm\n",
    "\n",
    "y = week_day_df['length']\n",
    "x = avg_df_repeated[['Q2', 'Q3', 'Q4', 'Q5', 'Q6', 'Q7']]\n",
    "x = sm.add_constant(x)\n",
    "\n",
    "est = sm.OLS(y, x)\n",
    "est2 = est.fit()\n",
    "print(est2.summary())"
   ],
   "id": "a067872e6ea76b6",
   "outputs": [
    {
     "name": "stdout",
     "output_type": "stream",
     "text": [
      "                            OLS Regression Results                            \n",
      "==============================================================================\n",
      "Dep. Variable:                 length   R-squared:                       0.243\n",
      "Model:                            OLS   Adj. R-squared:                  0.230\n",
      "Method:                 Least Squares   F-statistic:                     18.50\n",
      "Date:                Sat, 24 May 2025   Prob (F-statistic):           1.17e-18\n",
      "Time:                        01:24:41   Log-Likelihood:                -2008.1\n",
      "No. Observations:                 353   AIC:                             4030.\n",
      "Df Residuals:                     346   BIC:                             4057.\n",
      "Df Model:                           6                                         \n",
      "Covariance Type:            nonrobust                                         \n",
      "==============================================================================\n",
      "                 coef    std err          t      P>|t|      [0.025      0.975]\n",
      "------------------------------------------------------------------------------\n",
      "const       1074.3905     10.215    105.179      0.000    1054.299    1094.482\n",
      "Q2           -23.1009     14.306     -1.615      0.107     -51.239       5.038\n",
      "Q3           -62.2330     14.165     -4.393      0.000     -90.094     -34.372\n",
      "Q4            -4.8074     14.165     -0.339      0.735     -32.669      23.054\n",
      "Q5           119.7320     14.306      8.369      0.000      91.593     147.871\n",
      "Q6           -49.4337     14.375     -3.439      0.001     -77.707     -21.160\n",
      "Q7            -3.9762     14.687     -0.271      0.787     -32.864      24.911\n",
      "==============================================================================\n",
      "Omnibus:                        5.993   Durbin-Watson:                   0.467\n",
      "Prob(Omnibus):                  0.050   Jarque-Bera (JB):                5.969\n",
      "Skew:                          -0.251   Prob(JB):                       0.0506\n",
      "Kurtosis:                       3.391   Cond. No.                         9.22\n",
      "==============================================================================\n",
      "\n",
      "Notes:\n",
      "[1] Standard Errors assume that the covariance matrix of the errors is correctly specified.\n"
     ]
    }
   ],
   "execution_count": 202
  },
  {
   "metadata": {},
   "cell_type": "markdown",
   "source": [
    "Del resultat de la regressió es veu que Q7 és la menys significativa (p-value = 0.787), per tant l'eliminem.\n",
    "\n",
    "Es torna a fer la regressió ara sense Q7.\n",
    "\n",
    "La regressió es torna a fer sempre per tal que poder comprovar que les significàncies de cada variable categòrica no canvia."
   ],
   "id": "643fd33a8d5b6c32"
  },
  {
   "metadata": {
    "ExecuteTime": {
     "end_time": "2025-05-23T23:29:18.572066Z",
     "start_time": "2025-05-23T23:29:18.556077Z"
    }
   },
   "cell_type": "code",
   "source": [
    "import statsmodels.api as sm\n",
    "\n",
    "y = week_day_df['length']\n",
    "x = avg_df_repeated[['Q2', 'Q3', 'Q4', 'Q5', 'Q6']]\n",
    "x = sm.add_constant(x)\n",
    "\n",
    "est = sm.OLS(y, x)\n",
    "est2 = est.fit()\n",
    "print(est2.summary())\n",
    "print(est2.params)"
   ],
   "id": "ca334e0baf1b6142",
   "outputs": [
    {
     "name": "stdout",
     "output_type": "stream",
     "text": [
      "                            OLS Regression Results                            \n",
      "==============================================================================\n",
      "Dep. Variable:                 length   R-squared:                       0.243\n",
      "Model:                            OLS   Adj. R-squared:                  0.232\n",
      "Method:                 Least Squares   F-statistic:                     22.24\n",
      "Date:                Sat, 24 May 2025   Prob (F-statistic):           2.42e-19\n",
      "Time:                        01:29:18   Log-Likelihood:                -2008.2\n",
      "No. Observations:                 353   AIC:                             4028.\n",
      "Df Residuals:                     347   BIC:                             4052.\n",
      "Df Model:                           5                                         \n",
      "Covariance Type:            nonrobust                                         \n",
      "==============================================================================\n",
      "                 coef    std err          t      P>|t|      [0.025      0.975]\n",
      "------------------------------------------------------------------------------\n",
      "const       1074.3905     10.201    105.320      0.000    1054.326    1094.455\n",
      "Q2           -23.1009     14.287     -1.617      0.107     -51.202       5.000\n",
      "Q3           -62.2330     14.147     -4.399      0.000     -90.057     -34.409\n",
      "Q4            -4.8074     14.147     -0.340      0.734     -32.631      23.016\n",
      "Q5           119.7320     14.287      8.380      0.000      91.631     147.833\n",
      "Q6           -51.3193     12.558     -4.087      0.000     -76.019     -26.620\n",
      "==============================================================================\n",
      "Omnibus:                        5.626   Durbin-Watson:                   0.468\n",
      "Prob(Omnibus):                  0.060   Jarque-Bera (JB):                5.533\n",
      "Skew:                          -0.246   Prob(JB):                       0.0629\n",
      "Kurtosis:                       3.367   Cond. No.                         9.05\n",
      "==============================================================================\n",
      "\n",
      "Notes:\n",
      "[1] Standard Errors assume that the covariance matrix of the errors is correctly specified.\n",
      "const    1074.390485\n",
      "Q2        -23.100882\n",
      "Q3        -62.233014\n",
      "Q4         -4.807415\n",
      "Q5        119.731954\n",
      "Q6        -51.319314\n",
      "dtype: float64\n"
     ]
    }
   ],
   "execution_count": 203
  },
  {
   "metadata": {},
   "cell_type": "markdown",
   "source": "Q4 és la menys significativa. S'elimina i es torna a fer la regressió.",
   "id": "12f2fe10fb6d719d"
  },
  {
   "metadata": {
    "ExecuteTime": {
     "end_time": "2025-05-23T23:29:36.487129Z",
     "start_time": "2025-05-23T23:29:36.472667Z"
    }
   },
   "cell_type": "code",
   "source": [
    "import statsmodels.api as sm\n",
    "\n",
    "y = week_day_df['length']\n",
    "x = avg_df_repeated[['Q2', 'Q3', 'Q5', 'Q6']]\n",
    "x = sm.add_constant(x)\n",
    "\n",
    "est = sm.OLS(y, x)\n",
    "est2 = est.fit()\n",
    "print(est2.summary())"
   ],
   "id": "e0354017caa3673f",
   "outputs": [
    {
     "name": "stdout",
     "output_type": "stream",
     "text": [
      "                            OLS Regression Results                            \n",
      "==============================================================================\n",
      "Dep. Variable:                 length   R-squared:                       0.242\n",
      "Model:                            OLS   Adj. R-squared:                  0.234\n",
      "Method:                 Least Squares   F-statistic:                     27.84\n",
      "Date:                Sat, 24 May 2025   Prob (F-statistic):           4.52e-20\n",
      "Time:                        01:29:36   Log-Likelihood:                -2008.2\n",
      "No. Observations:                 353   AIC:                             4026.\n",
      "Df Residuals:                     348   BIC:                             4046.\n",
      "Df Model:                           4                                         \n",
      "Covariance Type:            nonrobust                                         \n",
      "==============================================================================\n",
      "                 coef    std err          t      P>|t|      [0.025      0.975]\n",
      "------------------------------------------------------------------------------\n",
      "const       1074.3905     10.188    105.454      0.000    1054.352    1094.429\n",
      "Q2           -23.1009     14.269     -1.619      0.106     -51.166       4.964\n",
      "Q3           -64.6367     12.236     -5.283      0.000     -88.702     -40.571\n",
      "Q5           117.3282     12.398      9.464      0.000      92.944     141.712\n",
      "Q6           -51.3193     12.542     -4.092      0.000     -75.987     -26.651\n",
      "==============================================================================\n",
      "Omnibus:                        5.750   Durbin-Watson:                   0.469\n",
      "Prob(Omnibus):                  0.056   Jarque-Bera (JB):                5.673\n",
      "Skew:                          -0.248   Prob(JB):                       0.0586\n",
      "Kurtosis:                       3.372   Cond. No.                         7.74\n",
      "==============================================================================\n",
      "\n",
      "Notes:\n",
      "[1] Standard Errors assume that the covariance matrix of the errors is correctly specified.\n"
     ]
    }
   ],
   "execution_count": 204
  },
  {
   "metadata": {},
   "cell_type": "markdown",
   "source": "Q2 és la menys significativa, s'elimina i es torna a fer la regressió.",
   "id": "718e9d781e2a34bc"
  },
  {
   "metadata": {
    "ExecuteTime": {
     "end_time": "2025-05-23T23:30:08.570129Z",
     "start_time": "2025-05-23T23:30:08.555582Z"
    }
   },
   "cell_type": "code",
   "source": [
    "import statsmodels.api as sm\n",
    "\n",
    "y = week_day_df['length']\n",
    "x = avg_df_repeated[['Q3', 'Q5', 'Q6']]\n",
    "x = sm.add_constant(x)\n",
    "\n",
    "est = sm.OLS(y, x)\n",
    "est2 = est.fit()\n",
    "print(est2.summary())\n"
   ],
   "id": "2dcd07117bdf03a2",
   "outputs": [
    {
     "name": "stdout",
     "output_type": "stream",
     "text": [
      "                            OLS Regression Results                            \n",
      "==============================================================================\n",
      "Dep. Variable:                 length   R-squared:                       0.237\n",
      "Model:                            OLS   Adj. R-squared:                  0.230\n",
      "Method:                 Least Squares   F-statistic:                     36.08\n",
      "Date:                Sat, 24 May 2025   Prob (F-statistic):           2.47e-20\n",
      "Time:                        01:30:08   Log-Likelihood:                -2009.6\n",
      "No. Observations:                 353   AIC:                             4027.\n",
      "Df Residuals:                     349   BIC:                             4043.\n",
      "Df Model:                           3                                         \n",
      "Covariance Type:            nonrobust                                         \n",
      "==============================================================================\n",
      "                 coef    std err          t      P>|t|      [0.025      0.975]\n",
      "------------------------------------------------------------------------------\n",
      "const       1062.6136      7.150    148.622      0.000    1048.552    1076.676\n",
      "Q3           -75.9607     10.063     -7.549      0.000     -95.752     -56.170\n",
      "Q5           117.3282     12.427      9.442      0.000      92.888     141.769\n",
      "Q6           -51.3193     12.571     -4.082      0.000     -76.044     -26.594\n",
      "==============================================================================\n",
      "Omnibus:                        5.388   Durbin-Watson:                   0.483\n",
      "Prob(Omnibus):                  0.068   Jarque-Bera (JB):                5.342\n",
      "Skew:                          -0.231   Prob(JB):                       0.0692\n",
      "Kurtosis:                       3.386   Cond. No.                         5.96\n",
      "==============================================================================\n",
      "\n",
      "Notes:\n",
      "[1] Standard Errors assume that the covariance matrix of the errors is correctly specified.\n"
     ]
    }
   ],
   "execution_count": 205
  },
  {
   "metadata": {},
   "cell_type": "markdown",
   "source": "Finalment ja no hi ha cap Q amb un p-value > 0.05 i ja es té el resultat definitiu.",
   "id": "3641c86b333112e6"
  },
  {
   "metadata": {},
   "cell_type": "markdown",
   "source": [
    "## Anàlisi del resultat\n",
    "\n",
    "const és el terme independent, equivalent a un Q1 que no es podia posar, Q2 no hi és per tan Q2 és similar a const. Però atenció!!\n",
    "Els patrons s'han reordenat i els dies són 6, 5, 0, 4, 1, 2, 3 (dg, ds, dl, dv, dm, dx, dj). Així doncs Diumenge i Dissabte són similars.\n",
    "\n",
    "Després tenim Q3 però no Q4, amb la reordenació vol dir que són també similars Dilluns i Divendres\n",
    "\n",
    "A continuació tenim Q5, però sí que hi ha Q6, per tan, Dimarts va sol.\n",
    "\n",
    "Finalment tenim Q6 però no Q7. Dimecres i Dijous són iguals!\n",
    "\n",
    "Tot i que sembli que la reordenació ha afegit complexitat, és el contrari. Al reordenar les similituds estan adjacents i la interpretació és més fàcil.\n",
    "\n",
    "## Com continuar l'estudi\n",
    "\n",
    "Es començaria amb dissabte i diumenge que s'agruparien. Es faria el mateix estudi però de forma horària per saber quines hores es comporten igual i ara sí,\n",
    "quan es tinguí les hores iguals es buscaria la distribució de densitat de probabilitat per els dissabtes i diumenges de 05:00 a 08:00, per posar\n",
    "un exemple.\n",
    "\n",
    "En Arena es modelaria una taula amb les distribucions, al \"Delay\" del trajecte del taxi s'accediria a la taula en funció del dia de la setmana i hora del dia."
   ],
   "id": "ca4f6eef257e29fb"
  }
 ],
 "metadata": {
  "kernelspec": {
   "display_name": "Python 3",
   "language": "python",
   "name": "python3"
  },
  "language_info": {
   "name": "python",
   "version": "3.9"
  }
 },
 "nbformat": 4,
 "nbformat_minor": 5
}
